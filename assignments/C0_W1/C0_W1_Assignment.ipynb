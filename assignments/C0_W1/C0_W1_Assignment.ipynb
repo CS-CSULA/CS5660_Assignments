{
 "cells": [
  {
   "attachments": {},
   "cell_type": "markdown",
   "id": "7cf0e8d0",
   "metadata": {},
   "source": [
    "# Assignment 0\n",
    "Welcome to week one of this course. You need to finish this assignment to make sure you are ready for the rest of the course.\n",
    "\n",
    "## Important Note on Submission to the AutoGrader\n",
    "\n",
    "Before submitting your assignment to the AutoGrader, please make sure you are not doing the following:\n",
    "\n",
    "1. You have not added any _extra_ `print` statement(s) in the assignment.\n",
    "2. You have not added any _extra_ code cell(s) in the assignment.\n",
    "3. You have not changed any of the function parameters.\n",
    "4. You are not using any global variables inside your graded exercises. Unless specifically instructed to do so, please refrain from it and use the local variables instead.\n",
    "5. You are not changing the assignment code where it is not required, like creating _extra_ variables.\n",
    "\n",
    "If you do any of the following, you will get something like, `Grader not found` (or similarly unexpected) error upon submitting your assignment. Before asking for help/debugging the errors in your assignment, check for these first. If this is the case, and you don't remember the changes you have made.\n",
    "Lets get started!\n",
    "\n",
    "We will be using a data set of tweets. Hopefully you will get more than 99% accuracy.  \n",
    "Run the cell below to load in the packages."
   ]
  },
  {
   "attachments": {},
   "cell_type": "markdown",
   "id": "5ad3e75a",
   "metadata": {},
   "source": [
    "<a name='0'></a>\n",
    "## Import Functions and Data"
   ]
  },
  {
   "cell_type": "code",
   "execution_count": null,
   "id": "3ba047ce",
   "metadata": {},
   "outputs": [],
   "source": [
    "import numpy as np\n",
    "\n",
    "import w0_unittest"
   ]
  },
  {
   "attachments": {},
   "cell_type": "markdown",
   "metadata": {},
   "source": [
    "<a name='1'></a>\n",
    "## 1 - Square\n",
    "\n",
    "<a name='1-1'></a>\n",
    "### 1.1 - Square\n",
    "\n",
    "* The square is defined as: \n",
    "\n",
    "$$ f(x) = x * x $$"
   ]
  },
  {
   "attachments": {},
   "cell_type": "markdown",
   "id": "135bfb76",
   "metadata": {},
   "source": [
    "<a name='ex-1'></a>\n",
    "### Exercise 1 -  square\n",
    "Implement the square function. \n",
    "* You will want this function to work if x is a scalar as well as if it is an array."
   ]
  },
  {
   "attachments": {},
   "cell_type": "markdown",
   "id": "202cf1ab",
   "metadata": {},
   "source": [
    "<details>    \n",
    "<summary>\n",
    "    <font size=\"3\" color=\"darkgreen\"><b>Hints</b></font>\n",
    "</summary>\n",
    "<p>\n",
    "<ul>\n",
    "    <li><a href=\"https://numpy.org/doc/stable/reference/generated/numpy.square.html\" > numpy.square </a> </li>\n",
    "\n",
    "</ul>\n",
    "</p>\n",
    "\n"
   ]
  },
  {
   "cell_type": "code",
   "execution_count": null,
   "id": "53e781d5",
   "metadata": {},
   "outputs": [],
   "source": [
    "# UNQ_C1 GRADED FUNCTION: square\n",
    "def square(x): \n",
    "    '''\n",
    "    Input:\n",
    "        x: is the input (can be a scalar or an array)\n",
    "    Output:\n",
    "        f: the square of x\n",
    "    '''\n",
    "    \n",
    "    ### START CODE HERE ###\n",
    "    # calculate the square of x\n",
    "    f = None\n",
    "    ### END CODE HERE ###\n",
    "    \n",
    "    return f"
   ]
  },
  {
   "cell_type": "code",
   "execution_count": null,
   "id": "422c6cbc",
   "metadata": {},
   "outputs": [],
   "source": [
    "# Testing your function \n",
    "if (square(3) == 9):\n",
    "    print('SUCCESS!')\n",
    "else:\n",
    "    print('Oops!')\n",
    "\n",
    "if (square(-2) == 4):\n",
    "    print('CORRECT!')\n",
    "else:\n",
    "    print('Oops again!')"
   ]
  },
  {
   "cell_type": "code",
   "execution_count": null,
   "id": "0106fc12",
   "metadata": {},
   "outputs": [],
   "source": [
    "# Test your function\n",
    "w0_unittest.test_square(square)"
   ]
  },
  {
   "cell_type": "markdown",
   "id": "f062cf83",
   "metadata": {},
   "source": [
    "<a name='1'></a>\n",
    "## 1 - Global and Local Variables\n",
    "\n",
    "<a name='1-1'></a>\n",
    "### 1.1 - Do NOT call global variables inside a function\n",
    "\n",
    "Even though global variable work in the notebook, it does NOT work in the auto-grader."
   ]
  },
  {
   "cell_type": "code",
   "execution_count": null,
   "id": "bf5409fc",
   "metadata": {},
   "outputs": [],
   "source": [
    "# This global variable can not be called in other file\n",
    "a = 5"
   ]
  },
  {
   "cell_type": "code",
   "execution_count": null,
   "id": "3844dece",
   "metadata": {},
   "outputs": [],
   "source": [
    "def plus_five(x):\n",
    "    ### START CODE HERE ###\n",
    "\n",
    "    # Wrong:\n",
    "    # result = x + a\n",
    "\n",
    "    # correct:\n",
    "    result = None\n",
    "    ### END CODE HERE ###\n",
    "\n",
    "    return result"
   ]
  },
  {
   "cell_type": "code",
   "execution_count": null,
   "id": "51ff414d",
   "metadata": {},
   "outputs": [],
   "source": [
    "# Testing your function \n",
    "if (plus_five(3) == 8):\n",
    "    print('SUCCESS!')\n",
    "else:\n",
    "    print('Oops!')\n",
    "\n",
    "if (plus_five(-2) == 3):\n",
    "    print('CORRECT!')\n",
    "else:\n",
    "    print('Oops again!')"
   ]
  },
  {
   "cell_type": "code",
   "execution_count": null,
   "id": "da41f36a",
   "metadata": {},
   "outputs": [],
   "source": [
    "# Test your function\n",
    "w0_unittest.test_plus_five(plus_five)"
   ]
  }
 ],
 "metadata": {
  "kernelspec": {
   "display_name": "Python 3",
   "language": "python",
   "name": "python3"
  },
  "language_info": {
   "codemirror_mode": {
    "name": "ipython",
    "version": 3
   },
   "file_extension": ".py",
   "mimetype": "text/x-python",
   "name": "python",
   "nbconvert_exporter": "python",
   "pygments_lexer": "ipython3",
   "version": "3.11.4"
  },
  "vscode": {
   "interpreter": {
    "hash": "31f2aee4e71d21fbe5cf8b01ff0e069b9275f58929596ceb00d14d90e3e16cd6"
   }
  }
 },
 "nbformat": 4,
 "nbformat_minor": 5
}
